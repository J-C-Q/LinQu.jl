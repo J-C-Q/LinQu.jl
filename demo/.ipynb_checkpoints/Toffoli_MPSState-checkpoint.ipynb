{
 "cells": [
  {
   "cell_type": "code",
   "execution_count": 1,
   "metadata": {},
   "outputs": [],
   "source": [
    "include(\"./../YQ.jl\")\n",
    "using .YQ"
   ]
  },
  {
   "cell_type": "markdown",
   "metadata": {},
   "source": [
    "Create a 3-qubit circuit. All qubits initialized to $|0 \\rangle$."
   ]
  },
  {
   "cell_type": "code",
   "execution_count": 2,
   "metadata": {},
   "outputs": [
    {
     "name": "stdout",
     "output_type": "stream",
     "text": [
      "-------\n",
      "|State|\n",
      "-------\n",
      "MPSState(MPS\n",
      "1  ITensor ord=2 (1|id=364) (2|id=75| s=1,Site)\n",
      "Main.YQ.ITensors.Dense{Float64}\n",
      " 1.0  0.0\n",
      "2  ITensor ord=3 (1|id=364) (1|id=313) (2|id=931| s=2,Site)\n",
      "Main.YQ.ITensors.Dense{Float64}\n",
      "[:, :, 1] =\n",
      " 1.0\n",
      "\n",
      "[:, :, 2] =\n",
      " 0.0"
     ]
    },
    {
     "data": {
      "text/plain": []
     },
     "execution_count": 2,
     "metadata": {},
     "output_type": "execute_result"
    },
    {
     "name": "stdout",
     "output_type": "stream",
     "text": [
      "\n",
      "3  ITensor ord=2 (1|id=313) (2|id=785| s=3,Site)\n",
      "Main.YQ.ITensors.Dense{Float64}\n",
      " 1.0  0.0\n",
      ")\n"
     ]
    }
   ],
   "source": [
    "qc = QCircuit(3)"
   ]
  },
  {
   "cell_type": "markdown",
   "metadata": {},
   "source": [
    "Use single qubit rotation gate to initialize qubits. Here the circuit is initialized to $|110\\rangle$"
   ]
  },
  {
   "cell_type": "code",
   "execution_count": 3,
   "metadata": {},
   "outputs": [
    {
     "data": {
      "text/plain": [
       "2-element Array{QGate,1}:\n",
       " QGate(Complex{Float64}[0.0+0.0im, 1.0+0.0im, 1.0+0.0im, 0.0+0.0im], [1])\n",
       " QGate(Complex{Float64}[0.0+0.0im, 1.0+0.0im, 1.0+0.0im, 0.0+0.0im], [2])"
      ]
     },
     "execution_count": 3,
     "metadata": {},
     "output_type": "execute_result"
    }
   ],
   "source": [
    "push!(qc, XGate(1))\n",
    "push!(qc, XGate(2))"
   ]
  },
  {
   "cell_type": "markdown",
   "metadata": {},
   "source": [
    "Specify gates in the circuit. The following is a Toffoli gate implemented with 6 CNOT gates and some other single qubit gates."
   ]
  },
  {
   "cell_type": "code",
   "execution_count": 4,
   "metadata": {},
   "outputs": [
    {
     "data": {
      "text/plain": [
       "18-element Array{QGate,1}:\n",
       " QGate(Complex{Float64}[0.0+0.0im, 1.0+0.0im, 1.0+0.0im, 0.0+0.0im], [1])                                                                                                                                       \n",
       " QGate(Complex{Float64}[0.0+0.0im, 1.0+0.0im, 1.0+0.0im, 0.0+0.0im], [2])                                                                                                                                       \n",
       " QGate(Complex{Float64}[0.707107+0.0im, 0.707107+0.0im, 0.707107+0.0im, -0.707107+0.0im], [3])                                                                                                                  \n",
       " QGate(Complex{Float64}[1.0+0.0im, 0.0+0.0im, 0.0+0.0im, 0.0+0.0im, 0.0+0.0im, 0.0+0.0im, 0.0+0.0im, 1.0+0.0im, 0.0+0.0im, 0.0+0.0im, 1.0+0.0im, 0.0+0.0im, 0.0+0.0im, 1.0+0.0im, 0.0+0.0im, 0.0+0.0im], [2, 3])\n",
       " QGate(Complex{Float64}[1.0+0.0im, 0.0+0.0im, 0.0+0.0im, 0.707107+0.707107im], [3])                                                                                                                             \n",
       " QGate(Complex{Float64}[1.0+0.0im, 0.0+0.0im, 0.0+0.0im, 0.0+0.0im, 0.0+0.0im, 0.0+0.0im, 0.0+0.0im, 1.0+0.0im, 0.0+0.0im, 0.0+0.0im, 1.0+0.0im, 0.0+0.0im, 0.0+0.0im, 1.0+0.0im, 0.0+0.0im, 0.0+0.0im], [1, 3])\n",
       " QGate(Complex{Float64}[1.0+0.0im, 0.0+0.0im, 0.0+0.0im, 0.707107-0.707107im], [3])                                                                                                                             \n",
       " QGate(Complex{Float64}[1.0+0.0im, 0.0+0.0im, 0.0+0.0im, 0.0+0.0im, 0.0+0.0im, 0.0+0.0im, 0.0+0.0im, 1.0+0.0im, 0.0+0.0im, 0.0+0.0im, 1.0+0.0im, 0.0+0.0im, 0.0+0.0im, 1.0+0.0im, 0.0+0.0im, 0.0+0.0im], [2, 3])\n",
       " QGate(Complex{Float64}[1.0+0.0im, 0.0+0.0im, 0.0+0.0im, 0.707107+0.707107im], [3])                                                                                                                             \n",
       " QGate(Complex{Float64}[1.0+0.0im, 0.0+0.0im, 0.0+0.0im, 0.0+0.0im, 0.0+0.0im, 0.0+0.0im, 0.0+0.0im, 1.0+0.0im, 0.0+0.0im, 0.0+0.0im, 1.0+0.0im, 0.0+0.0im, 0.0+0.0im, 1.0+0.0im, 0.0+0.0im, 0.0+0.0im], [1, 3])\n",
       " QGate(Complex{Float64}[1.0+0.0im, 0.0+0.0im, 0.0+0.0im, 0.707107-0.707107im], [3])                                                                                                                             \n",
       " QGate(Complex{Float64}[0.707107+0.0im, 0.707107+0.0im, 0.707107+0.0im, -0.707107+0.0im], [3])                                                                                                                  \n",
       " QGate(Complex{Float64}[1.0+0.0im, 0.0+0.0im, 0.0+0.0im, 0.707107+0.707107im], [2])                                                                                                                             \n",
       " QGate(Complex{Float64}[1.0+0.0im, 0.0+0.0im, 0.0+0.0im, 0.0+0.0im, 0.0+0.0im, 0.0+0.0im, 0.0+0.0im, 1.0+0.0im, 0.0+0.0im, 0.0+0.0im, 1.0+0.0im, 0.0+0.0im, 0.0+0.0im, 1.0+0.0im, 0.0+0.0im, 0.0+0.0im], [1, 2])\n",
       " QGate(Complex{Float64}[1.0+0.0im, 0.0+0.0im, 0.0+0.0im, 0.707107+0.707107im], [2])                                                                                                                             \n",
       " QGate(Complex{Float64}[1.0+0.0im, 0.0+0.0im, 0.0+0.0im, 0.0+0.0im, 0.0+0.0im, 0.0+0.0im, 0.0+0.0im, 1.0+0.0im, 0.0+0.0im, 0.0+0.0im, 1.0+0.0im, 0.0+0.0im, 0.0+0.0im, 1.0+0.0im, 0.0+0.0im, 0.0+0.0im], [1, 2])\n",
       " QGate(Complex{Float64}[1.0+0.0im, 0.0+0.0im, 0.0+0.0im, 0.707107-0.707107im], [1])                                                                                                                             \n",
       " QGate(Complex{Float64}[1.0+0.0im, 0.0+0.0im, 0.0+0.0im, 0.0+1.0im], [2])                                                                                                                                       "
      ]
     },
     "execution_count": 4,
     "metadata": {},
     "output_type": "execute_result"
    }
   ],
   "source": [
    "push!(qc, HGate(3))\n",
    "push!(qc, CNOTGate(2,3))\n",
    "push!(qc, TdagGate(3))\n",
    "push!(qc, CNOTGate(1,3))\n",
    "push!(qc, TGate(3))\n",
    "push!(qc, CNOTGate(2,3))\n",
    "push!(qc, TdagGate(3))\n",
    "push!(qc, CNOTGate(1,3))\n",
    "push!(qc, TGate(3))\n",
    "push!(qc, HGate(3))\n",
    "push!(qc, TdagGate(2))\n",
    "push!(qc,CNOTGate(1,2))\n",
    "push!(qc, TdagGate(2))\n",
    "push!(qc,CNOTGate(1,2))\n",
    "push!(qc, TGate(1))\n",
    "push!(qc, SGate(2))"
   ]
  },
  {
   "cell_type": "markdown",
   "metadata": {},
   "source": [
    "Compile the circuit with non-local gates to a new circuit with only local gates."
   ]
  },
  {
   "cell_type": "code",
   "execution_count": 5,
   "metadata": {},
   "outputs": [
    {
     "data": {
      "text/plain": []
     },
     "execution_count": 5,
     "metadata": {},
     "output_type": "execute_result"
    },
    {
     "name": "stdout",
     "output_type": "stream",
     "text": [
      "-------\n",
      "|State|\n",
      "-------\n",
      "MPSState(MPS\n",
      "1  ITensor ord=2 (1|id=364) (2|id=75| s=1,Site)\n",
      "Main.YQ.ITensors.Dense{Float64}\n",
      " 1.0  0.0\n",
      "2  ITensor ord=3 (1|id=364) (1|id=313) (2|id=931| s=2,Site)\n",
      "Main.YQ.ITensors.Dense{Float64}\n",
      "[:, :, 1] =\n",
      " 1.0\n",
      "\n",
      "[:, :, 2] =\n",
      " 0.0\n",
      "3  ITensor ord=2 (1|id=313) (2|id=785| s=3,Site)\n",
      "Main.YQ.ITensors.Dense{Float64}\n",
      " 1.0  0.0\n",
      ")\n"
     ]
    }
   ],
   "source": [
    "minswap_localize!(qc)"
   ]
  },
  {
   "cell_type": "markdown",
   "metadata": {},
   "source": [
    "Run the circuit!"
   ]
  },
  {
   "cell_type": "code",
   "execution_count": 6,
   "metadata": {},
   "outputs": [],
   "source": [
    "runlocal!(qc)"
   ]
  },
  {
   "cell_type": "code",
   "execution_count": 7,
   "metadata": {},
   "outputs": [
    {
     "name": "stdout",
     "output_type": "stream",
     "text": [
      "-------\n",
      "|State|\n",
      "-------\n",
      "MPSState(MPS\n",
      "1  ITensor ord=2 (2|id=75| s=1,Site) (2|id=282|Link,u)\n",
      "Main.YQ.ITensors.Dense{Complex{Float64}}\n",
      " 0.0 + 2.0782829574974754e-32im  -1.0 + 2.220446049250311e-16im\n",
      " 1.0 - 8.326672684688674e-16im    0.0 + 0.0im                  \n",
      "2  ITensor ord=3 (2|id=931| s=2,Site) (2|id=264|Link,u) (2|id=282|Link,u)\n",
      "Main.YQ.ITensors.Dense{Complex{Float64}}\n",
      "[:, :, 1] =\n",
      " -2.7933481566906463e-49 + 3.20493781063927e-17im   1.7105694144590052e-49 - 1.282927060844254e-49im \n",
      "                    -1.0 - 6.106226635438361e-16im  2.7938969586136594e-16 - 1.1102230246251565e-16im\n",
      "\n",
      "[:, :, 2] =\n",
      " -1.4526273320175447e-33 + 0.0im                    1.0964537188245497e-65 - 6.98337039172661e-50im \n",
      "  1.7695293107722925e-32 - 1.423278299945385e-32im   4.532466518368398e-17 - 4.532466518368394e-17im\n",
      "3  ITensor ord=2 (2|id=785| s=3,Site) (2|id=264|Link,u)\n",
      "Main.YQ.ITensors.Dense{Complex{Float64}}\n",
      " -2.220446049250313e-16 - 1.9626155733547187e-16im  -1.0 - 1.6653345369377346e-16im\n",
      "                    1.0 + 1.9626155733547187e-16im   0.0 + 1.9626155733547182e-16im\n",
      ")\n"
     ]
    }
   ],
   "source": [
    "print(qc)"
   ]
  },
  {
   "cell_type": "code",
   "execution_count": 8,
   "metadata": {},
   "outputs": [
    {
     "name": "stdout",
     "output_type": "stream",
     "text": [
      "ITensor ord=3 (2|id=75| s=1,Site) (2|id=931| s=2,Site) (2|id=785| s=3,Site)\n",
      "Main.YQ.ITensors.Dense{Complex{Float64}}\n",
      "[:, :, 1] =\n",
      " -3.225480620411379e-49 - 3.549286063271007e-49im  4.5324665183683976e-17 - 4.5324665183683945e-17im\n",
      "  6.290060858794003e-33 - 7.11639149972692e-33im   -5.734509093633451e-17 + 3.0728385979798764e-16im\n",
      "\n",
      "[:, :, 2] =\n",
      "  1.452627332017544e-33 - 3.745315963130295e-50im  -2.6590782482381556e-32 - 1.544553595017956e-32im \n",
      " 2.0396407265181926e-32 + 3.20493781063927e-17im                      -1.0 + 2.5783047589559492e-17im"
     ]
    }
   ],
   "source": [
    "print(MPS_exact(qc.state))"
   ]
  },
  {
   "cell_type": "code",
   "execution_count": null,
   "metadata": {},
   "outputs": [],
   "source": []
  },
  {
   "cell_type": "markdown",
   "metadata": {},
   "source": []
  }
 ],
 "metadata": {
  "kernelspec": {
   "display_name": "Julia 1.1.1",
   "language": "julia",
   "name": "julia-1.1"
  },
  "language_info": {
   "file_extension": ".jl",
   "mimetype": "application/julia",
   "name": "julia",
   "version": "1.1.1"
  }
 },
 "nbformat": 4,
 "nbformat_minor": 2
}
